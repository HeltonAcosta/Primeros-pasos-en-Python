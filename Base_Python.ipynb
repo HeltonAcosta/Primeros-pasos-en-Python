{
  "nbformat": 4,
  "nbformat_minor": 0,
  "metadata": {
    "colab": {
      "provenance": []
    },
    "kernelspec": {
      "name": "python3",
      "display_name": "Python 3"
    },
    "language_info": {
      "name": "python"
    }
  },
  "cells": [
    {
      "cell_type": "markdown",
      "source": [
        "Primeros pasos en Python.  - Parte I ---\n",
        "**Helton Acosta**"
      ],
      "metadata": {
        "id": "9VMeVhl1H87F"
      }
    },
    {
      "cell_type": "markdown",
      "source": [
        "Asignacion de variables"
      ],
      "metadata": {
        "id": "bfB44dN5yAzI"
      }
    },
    {
      "cell_type": "code",
      "source": [
        "X=3\n",
        "# en python \"=\" significa \"asiganado a\""
      ],
      "metadata": {
        "id": "PG9OlyixHw2y"
      },
      "execution_count": null,
      "outputs": []
    },
    {
      "cell_type": "code",
      "source": [
        "# por lo que para llamar la varioables se usa print\n",
        "print(X)\n",
        "\n",
        "# Recuerde que python es sencible a las mayusculas y minusculas\n"
      ],
      "metadata": {
        "colab": {
          "base_uri": "https://localhost:8080/"
        },
        "id": "laU6t7TMHw0h",
        "outputId": "4a73bdb8-127a-4887-cd32-81b6cf944907"
      },
      "execution_count": null,
      "outputs": [
        {
          "output_type": "stream",
          "name": "stdout",
          "text": [
            "3\n"
          ]
        }
      ]
    },
    {
      "cell_type": "markdown",
      "source": [
        "-Varaibles Numericas y Boolenas"
      ],
      "metadata": {
        "id": "AejLbeWQ1S6z"
      }
    },
    {
      "cell_type": "markdown",
      "source": [
        "Las variables numeriacas pueden ser enteras o punto flotante"
      ],
      "metadata": {
        "id": "3zAU8BL2Is1U"
      }
    },
    {
      "cell_type": "code",
      "source": [
        "x=6\n",
        "y=5.2"
      ],
      "metadata": {
        "id": "oqJcWl1eHwv2"
      },
      "execution_count": null,
      "outputs": []
    },
    {
      "cell_type": "code",
      "source": [
        "type(y)"
      ],
      "metadata": {
        "colab": {
          "base_uri": "https://localhost:8080/"
        },
        "id": "G5NrHiWHHwrC",
        "outputId": "511314f7-ef73-44d4-ea10-d12b3ab4d675"
      },
      "execution_count": null,
      "outputs": [
        {
          "output_type": "execute_result",
          "data": {
            "text/plain": [
              "float"
            ]
          },
          "metadata": {},
          "execution_count": 6
        }
      ]
    },
    {
      "cell_type": "code",
      "source": [
        "# para pasar de variable punto flotante a entera uso int"
      ],
      "metadata": {
        "id": "oNevl29HI-Bc"
      },
      "execution_count": null,
      "outputs": []
    },
    {
      "cell_type": "code",
      "source": [
        "int(y)"
      ],
      "metadata": {
        "colab": {
          "base_uri": "https://localhost:8080/"
        },
        "id": "gHFp7AzjI-DX",
        "outputId": "d97ffb24-9280-46f4-cefc-377f3afc5b77"
      },
      "execution_count": null,
      "outputs": [
        {
          "output_type": "execute_result",
          "data": {
            "text/plain": [
              "5"
            ]
          },
          "metadata": {},
          "execution_count": 7
        }
      ]
    },
    {
      "cell_type": "markdown",
      "source": [
        "Variables booleanas son verdaderas o falsas\n",
        "Ojo: La primera letra de las booleanas deve ser con mayuscula"
      ],
      "metadata": {
        "id": "L23j9oUtJaJc"
      }
    },
    {
      "cell_type": "code",
      "source": [
        "a= True\n",
        "type(a)"
      ],
      "metadata": {
        "colab": {
          "base_uri": "https://localhost:8080/"
        },
        "id": "AHh1dyB7I-Fu",
        "outputId": "2022447b-aeb9-47c6-ebe4-4c96d0498914"
      },
      "execution_count": null,
      "outputs": [
        {
          "output_type": "execute_result",
          "data": {
            "text/plain": [
              "bool"
            ]
          },
          "metadata": {},
          "execution_count": 11
        }
      ]
    },
    {
      "cell_type": "markdown",
      "source": [
        "Variables string: Cadena de caracteres"
      ],
      "metadata": {
        "id": "cDI-znBRKvNN"
      }
    },
    {
      "cell_type": "code",
      "source": [
        "Helton # si solo escribo me saldra error"
      ],
      "metadata": {
        "id": "aYv9PSf6I-KF"
      },
      "execution_count": null,
      "outputs": []
    },
    {
      "cell_type": "code",
      "source": [
        "# se tiene que escribir entre comillas dobles o simples\n",
        "\"Helton\"\n",
        "'Helton'\n"
      ],
      "metadata": {
        "colab": {
          "base_uri": "https://localhost:8080/",
          "height": 35
        },
        "id": "VdUE-aisI-L4",
        "outputId": "53510cee-8083-4107-e321-1f5edfad72c0"
      },
      "execution_count": null,
      "outputs": [
        {
          "output_type": "execute_result",
          "data": {
            "text/plain": [
              "'Helton'"
            ],
            "application/vnd.google.colaboratory.intrinsic+json": {
              "type": "string"
            }
          },
          "metadata": {},
          "execution_count": 12
        }
      ]
    },
    {
      "cell_type": "code",
      "source": [
        "# para que salga sin comillas usamos print\n",
        "print(\"Helton\")\n"
      ],
      "metadata": {
        "colab": {
          "base_uri": "https://localhost:8080/"
        },
        "id": "aRHRIiXbI-N2",
        "outputId": "3932eeb6-cb0d-4af0-eb72-eb58b9739673"
      },
      "execution_count": null,
      "outputs": [
        {
          "output_type": "stream",
          "name": "stdout",
          "text": [
            "Helton\n"
          ]
        }
      ]
    },
    {
      "cell_type": "code",
      "source": [
        "# Si y es 25\n",
        "y= 25"
      ],
      "metadata": {
        "id": "bidQdO5CHwWe"
      },
      "execution_count": null,
      "outputs": []
    },
    {
      "cell_type": "code",
      "source": [
        "# Si quiero unir dos variables de diferentes tipos me saldra error\n",
        "print(y + \"Dolares\")\n"
      ],
      "metadata": {
        "colab": {
          "base_uri": "https://localhost:8080/",
          "height": 159
        },
        "id": "aJ54Wq68Ld3w",
        "outputId": "09fef085-d6cc-477e-994f-809e6a82798b"
      },
      "execution_count": null,
      "outputs": [
        {
          "output_type": "error",
          "ename": "TypeError",
          "evalue": "unsupported operand type(s) for +: 'int' and 'str'",
          "traceback": [
            "\u001b[0;31m---------------------------------------------------------------------------\u001b[0m",
            "\u001b[0;31mTypeError\u001b[0m                                 Traceback (most recent call last)",
            "\u001b[0;32m<ipython-input-15-76f29f9a3f9d>\u001b[0m in \u001b[0;36m<cell line: 2>\u001b[0;34m()\u001b[0m\n\u001b[1;32m      1\u001b[0m \u001b[0;31m# Si quiero unir dos variables de diferentes tipos me saldra error\u001b[0m\u001b[0;34m\u001b[0m\u001b[0;34m\u001b[0m\u001b[0m\n\u001b[0;32m----> 2\u001b[0;31m \u001b[0mprint\u001b[0m\u001b[0;34m(\u001b[0m\u001b[0my\u001b[0m\u001b[0;34m+\u001b[0m \u001b[0;34m\"Dolares\"\u001b[0m\u001b[0;34m)\u001b[0m\u001b[0;34m\u001b[0m\u001b[0;34m\u001b[0m\u001b[0m\n\u001b[0m",
            "\u001b[0;31mTypeError\u001b[0m: unsupported operand type(s) for +: 'int' and 'str'"
          ]
        }
      ]
    },
    {
      "cell_type": "code",
      "source": [
        "# tengo que decirles que quiero que el valor de y se lea como string\n",
        "print(str(y) + \" Dolares\")"
      ],
      "metadata": {
        "colab": {
          "base_uri": "https://localhost:8080/"
        },
        "id": "tp1x46fvLeu_",
        "outputId": "5d66fa5f-af4c-45f5-d02c-09df405a2dce"
      },
      "execution_count": null,
      "outputs": [
        {
          "output_type": "stream",
          "name": "stdout",
          "text": [
            "25 Dolares\n"
          ]
        }
      ]
    },
    {
      "cell_type": "code",
      "source": [
        "# me saldra error\n",
        "'I'am Helton'\n"
      ],
      "metadata": {
        "colab": {
          "base_uri": "https://localhost:8080/",
          "height": 106
        },
        "id": "f1bpwcEOLexA",
        "outputId": "d5b478ac-9b32-421f-9d07-d31d8a625b36"
      },
      "execution_count": null,
      "outputs": [
        {
          "output_type": "error",
          "ename": "SyntaxError",
          "evalue": "unterminated string literal (detected at line 1) (<ipython-input-19-aed4c0720681>, line 1)",
          "traceback": [
            "\u001b[0;36m  File \u001b[0;32m\"<ipython-input-19-aed4c0720681>\"\u001b[0;36m, line \u001b[0;32m1\u001b[0m\n\u001b[0;31m    'I'am Helton'\u001b[0m\n\u001b[0m                ^\u001b[0m\n\u001b[0;31mSyntaxError\u001b[0m\u001b[0;31m:\u001b[0m unterminated string literal (detected at line 1)\n"
          ]
        }
      ]
    },
    {
      "cell_type": "code",
      "source": [
        "# Para solucionarlo\n",
        "\"I'am Helton\""
      ],
      "metadata": {
        "colab": {
          "base_uri": "https://localhost:8080/",
          "height": 35
        },
        "id": "DhpstafALezG",
        "outputId": "6f048983-6d45-447f-bed5-ac5410d774fe"
      },
      "execution_count": null,
      "outputs": [
        {
          "output_type": "execute_result",
          "data": {
            "text/plain": [
              "\"I'am Helton\""
            ],
            "application/vnd.google.colaboratory.intrinsic+json": {
              "type": "string"
            }
          },
          "metadata": {},
          "execution_count": 20
        }
      ]
    },
    {
      "cell_type": "code",
      "source": [
        "# Como escribir dos string unidos, los espacios deben de ir dentro de las comillas\n",
        "\"Casa \" \"Bonita\"\n"
      ],
      "metadata": {
        "colab": {
          "base_uri": "https://localhost:8080/",
          "height": 35
        },
        "id": "pavUncI3Le1O",
        "outputId": "8c54de44-6ee5-4e8c-c270-3f15facbf455"
      },
      "execution_count": null,
      "outputs": [
        {
          "output_type": "execute_result",
          "data": {
            "text/plain": [
              "'Casa Bonita'"
            ],
            "application/vnd.google.colaboratory.intrinsic+json": {
              "type": "string"
            }
          },
          "metadata": {},
          "execution_count": 21
        }
      ]
    },
    {
      "cell_type": "code",
      "source": [
        "print(\"Casa \" \"Bonita\")"
      ],
      "metadata": {
        "colab": {
          "base_uri": "https://localhost:8080/"
        },
        "id": "p-6tYYFKLe3c",
        "outputId": "8ecfffb2-0a30-40d7-f115-3e1b289d6b1b"
      },
      "execution_count": null,
      "outputs": [
        {
          "output_type": "stream",
          "name": "stdout",
          "text": [
            "Casa Bonita\n"
          ]
        }
      ]
    },
    {
      "cell_type": "markdown",
      "source": [
        "%%%%%%%%%  USO DE LAS f- strings o Cadenas de Formato %%%%%%%%%%%"
      ],
      "metadata": {
        "id": "Z4xnW5f6NRhu"
      }
    },
    {
      "cell_type": "markdown",
      "source": [
        "La f string nos perminten expresar infrmacion de manera clara y profecional. Estas nos van a permitir conbinar\n",
        "cadenas y varibales de forma eficiente."
      ],
      "metadata": {
        "id": "dWDQ5jM6P2-i"
      }
    },
    {
      "cell_type": "code",
      "source": [
        "# Ejemplo cualitativo: Queremos saludar a un usuario por su nombre\n",
        "# En lugar de concatenar variables, usaremos f-string para poner el nombre del usuario directamente en el saludo\n",
        "nombre_usuario = \"Helton\"\n",
        "\n",
        "\n"
      ],
      "metadata": {
        "id": "nCqttgIELe5e"
      },
      "execution_count": null,
      "outputs": []
    },
    {
      "cell_type": "code",
      "source": [
        "print(f\" Bienvenida, {nombre_usuario}!\")"
      ],
      "metadata": {
        "colab": {
          "base_uri": "https://localhost:8080/"
        },
        "id": "tG7GUkTNLe7u",
        "outputId": "2907d83e-b98e-4f17-c140-a93535dacf44"
      },
      "execution_count": null,
      "outputs": [
        {
          "output_type": "stream",
          "name": "stdout",
          "text": [
            " Bienvenida, Helton!\n"
          ]
        }
      ]
    },
    {
      "cell_type": "markdown",
      "source": [
        "Las f-string tambien nos pueden ser utiles al trabajar con números."
      ],
      "metadata": {
        "id": "OZWDnTIzRcC0"
      }
    },
    {
      "cell_type": "code",
      "source": [
        "# Ejemplo cuantitativo: Queremos que el precio de un articulo este solo en dos decimales\n",
        "precio= 20.9999999999\n",
        "\n"
      ],
      "metadata": {
        "id": "zz3FSFtVLe92"
      },
      "execution_count": null,
      "outputs": []
    },
    {
      "cell_type": "code",
      "source": [
        "print(f\"El precio es: S/{precio:.2f}\")"
      ],
      "metadata": {
        "colab": {
          "base_uri": "https://localhost:8080/"
        },
        "id": "uD-7bPjPLfAO",
        "outputId": "98b72c5c-bef5-4712-ffa4-7e38b7754f88"
      },
      "execution_count": null,
      "outputs": [
        {
          "output_type": "stream",
          "name": "stdout",
          "text": [
            "El precio es: S/ 21.00\n"
          ]
        }
      ]
    },
    {
      "cell_type": "code",
      "source": [
        "# Ejemplo: Queremos mostrar un porcentaje con solo un decimal... usaremos :.1f\n",
        "porcentaje = 85.666666666"
      ],
      "metadata": {
        "id": "qv8XbefDLfCD"
      },
      "execution_count": null,
      "outputs": []
    },
    {
      "cell_type": "code",
      "source": [
        "print(f\"El porcentaje es: {porcentaje :.1f}%\")"
      ],
      "metadata": {
        "colab": {
          "base_uri": "https://localhost:8080/"
        },
        "id": "-qXfwGBXLfEU",
        "outputId": "ff89a395-7ef2-4ee7-8af1-9ad9b2927900"
      },
      "execution_count": null,
      "outputs": [
        {
          "output_type": "stream",
          "name": "stdout",
          "text": [
            "El porcentaje es: 85.7%\n"
          ]
        }
      ]
    },
    {
      "cell_type": "code",
      "source": [
        "## Ejercicio\n",
        "# Define una variable `nombre` que contenga un nombre de estudiante como cadena de texto.\n",
        "# Usa una f-string para crear un mensaje de felicitación que incluya la variable `nombre`.\n",
        "# El mensaje debe seguir el formato exacto: \"¡Felicidades [Nombre del Estudiante] por completar el curso de Phyton!\"\n",
        "\n"
      ],
      "metadata": {
        "id": "C8F7wDAVVBT5"
      },
      "execution_count": null,
      "outputs": []
    },
    {
      "cell_type": "code",
      "source": [
        "nombre = \"Alex\"\n",
        "print(f\"¡Felicidades {nombre} por completar el curso de Phyton\")\n"
      ],
      "metadata": {
        "colab": {
          "base_uri": "https://localhost:8080/"
        },
        "id": "RABmsCfaLfGj",
        "outputId": "54cccbd3-52fd-4962-fbba-917202a1131d"
      },
      "execution_count": null,
      "outputs": [
        {
          "output_type": "stream",
          "name": "stdout",
          "text": [
            "¡Felicidades Alex por completar el curso de Phyton\n"
          ]
        }
      ]
    },
    {
      "cell_type": "markdown",
      "source": [
        "%%%% OPERADORES ARITMETICOS %%%%%"
      ],
      "metadata": {
        "id": "Pyba0KOEXaqV"
      }
    },
    {
      "cell_type": "code",
      "source": [
        "# Se puede hacer operaciones simples directamente. Por Ejemplo"
      ],
      "metadata": {
        "id": "ajMTlm2WUIkG"
      },
      "execution_count": null,
      "outputs": []
    },
    {
      "cell_type": "code",
      "source": [
        "2+8"
      ],
      "metadata": {
        "colab": {
          "base_uri": "https://localhost:8080/"
        },
        "id": "tISNWSXGUImu",
        "outputId": "c2e1e063-721a-49b3-c50a-777e820d3a1a"
      },
      "execution_count": null,
      "outputs": [
        {
          "output_type": "execute_result",
          "data": {
            "text/plain": [
              "10"
            ]
          },
          "metadata": {},
          "execution_count": 38
        }
      ]
    },
    {
      "cell_type": "code",
      "source": [
        "2*6"
      ],
      "metadata": {
        "colab": {
          "base_uri": "https://localhost:8080/"
        },
        "id": "9OMcnM5LUIpH",
        "outputId": "e44161cc-0e0c-471e-d2cc-e3dcc11f0a79"
      },
      "execution_count": null,
      "outputs": [
        {
          "output_type": "execute_result",
          "data": {
            "text/plain": [
              "12"
            ]
          },
          "metadata": {},
          "execution_count": 39
        }
      ]
    },
    {
      "cell_type": "code",
      "source": [
        "15/3"
      ],
      "metadata": {
        "colab": {
          "base_uri": "https://localhost:8080/"
        },
        "id": "TFYiHYaaUIro",
        "outputId": "d31f476e-b345-48d7-abda-26a4922453be"
      },
      "execution_count": null,
      "outputs": [
        {
          "output_type": "execute_result",
          "data": {
            "text/plain": [
              "5.0"
            ]
          },
          "metadata": {},
          "execution_count": 40
        }
      ]
    },
    {
      "cell_type": "code",
      "source": [
        "15/4"
      ],
      "metadata": {
        "colab": {
          "base_uri": "https://localhost:8080/"
        },
        "id": "RCZO0IR-UIuB",
        "outputId": "2c6b0a06-b120-4fb6-fe42-047947fb430a"
      },
      "execution_count": null,
      "outputs": [
        {
          "output_type": "execute_result",
          "data": {
            "text/plain": [
              "3.75"
            ]
          },
          "metadata": {},
          "execution_count": 42
        }
      ]
    },
    {
      "cell_type": "code",
      "source": [
        "# si quisiera el residuo de esa division debo usar %\n",
        "15%4"
      ],
      "metadata": {
        "colab": {
          "base_uri": "https://localhost:8080/"
        },
        "id": "baYt8pTXUIwQ",
        "outputId": "755f136d-c407-49f2-f158-0267546e9fd9"
      },
      "execution_count": null,
      "outputs": [
        {
          "output_type": "execute_result",
          "data": {
            "text/plain": [
              "3"
            ]
          },
          "metadata": {},
          "execution_count": 43
        }
      ]
    },
    {
      "cell_type": "code",
      "source": [
        "# Potencia es con dos asteriscos **"
      ],
      "metadata": {
        "id": "UNSzjA4jLfIw"
      },
      "execution_count": null,
      "outputs": []
    },
    {
      "cell_type": "code",
      "source": [
        "9**2"
      ],
      "metadata": {
        "colab": {
          "base_uri": "https://localhost:8080/"
        },
        "id": "yKbGOtRbLfK6",
        "outputId": "d8a8f9cb-80a4-4bc3-f6c7-53c4a5774283"
      },
      "execution_count": null,
      "outputs": [
        {
          "output_type": "execute_result",
          "data": {
            "text/plain": [
              "81"
            ]
          },
          "metadata": {},
          "execution_count": 44
        }
      ]
    },
    {
      "cell_type": "code",
      "source": [
        "## SIGNOS DE DOBLE IGUALDAD\n",
        "# el signo de doble igualdad python lo lee como una pregunta : es x igual a 27 ( por ejemplo) ? ... entonces la respuesta sera un booleano"
      ],
      "metadata": {
        "id": "FIdlTgsvLfNM"
      },
      "execution_count": null,
      "outputs": []
    },
    {
      "cell_type": "code",
      "source": [
        "x=2**2"
      ],
      "metadata": {
        "id": "E8WEmqiOLfPU"
      },
      "execution_count": null,
      "outputs": []
    },
    {
      "cell_type": "code",
      "source": [
        "x== 8"
      ],
      "metadata": {
        "colab": {
          "base_uri": "https://localhost:8080/"
        },
        "id": "kIBo8IFNaDqW",
        "outputId": "259117f0-e934-4491-93ce-7cb85308bb52"
      },
      "execution_count": null,
      "outputs": [
        {
          "output_type": "execute_result",
          "data": {
            "text/plain": [
              "False"
            ]
          },
          "metadata": {},
          "execution_count": 47
        }
      ]
    },
    {
      "cell_type": "code",
      "source": [
        "x== 4"
      ],
      "metadata": {
        "colab": {
          "base_uri": "https://localhost:8080/"
        },
        "id": "XEZON2eeaDsn",
        "outputId": "d1f39943-f71e-48f6-be61-5db3eccd219c"
      },
      "execution_count": null,
      "outputs": [
        {
          "output_type": "execute_result",
          "data": {
            "text/plain": [
              "True"
            ]
          },
          "metadata": {},
          "execution_count": 48
        }
      ]
    },
    {
      "cell_type": "code",
      "source": [
        "  # Sangria en los cofigos (Indentacion).. viene de int"
      ],
      "metadata": {
        "id": "Swh9E7daaDu5"
      },
      "execution_count": null,
      "outputs": []
    },
    {
      "cell_type": "code",
      "source": [
        "def uno(x):\n",
        "  x=1\n",
        "  return x\n",
        "print(uno(57))\n",
        "\n",
        "# la funion creada convierte cualquier numero a uno\n",
        "# la linea 2 y 3 estan indentadas o con sangria por lo que pertenecen a un solo bloque ( de la funcion def)"
      ],
      "metadata": {
        "colab": {
          "base_uri": "https://localhost:8080/"
        },
        "id": "WMKQrjspaDxP",
        "outputId": "d013010a-9260-4a27-c6ca-96f086cd03c8"
      },
      "execution_count": null,
      "outputs": [
        {
          "output_type": "stream",
          "name": "stdout",
          "text": [
            "1\n"
          ]
        }
      ]
    },
    {
      "cell_type": "markdown",
      "source": [
        "%%%% CONDICIONALES %%%%"
      ],
      "metadata": {
        "id": "RSyvPDEu1oUY"
      }
    },
    {
      "cell_type": "code",
      "source": [
        "## CONDICIONALES IF"
      ],
      "metadata": {
        "id": "SkzrCBTbbf46"
      },
      "execution_count": null,
      "outputs": []
    },
    {
      "cell_type": "code",
      "source": [
        "if 2 == 1 + 1:  # \":\" es como decir entonces\n",
        "  print(\"correcto\")\n"
      ],
      "metadata": {
        "colab": {
          "base_uri": "https://localhost:8080/"
        },
        "id": "iW25_ymIaDzk",
        "outputId": "4bf349ab-7702-4982-a3f4-24e0d71b8944"
      },
      "execution_count": null,
      "outputs": [
        {
          "output_type": "stream",
          "name": "stdout",
          "text": [
            "correcto\n"
          ]
        }
      ]
    },
    {
      "cell_type": "code",
      "source": [
        "if 2 == 1 :\n",
        "  print(\"correcto\")\n",
        "# no sale nada por que no le digimos que hacer caundo no es correcto"
      ],
      "metadata": {
        "id": "dmyxJ2qLaD1w"
      },
      "execution_count": null,
      "outputs": []
    },
    {
      "cell_type": "code",
      "source": [
        "## CONDICIONAL IF ELSE .. else es \"si no\""
      ],
      "metadata": {
        "id": "nGF8Xaz0aD4O"
      },
      "execution_count": null,
      "outputs": []
    },
    {
      "cell_type": "code",
      "source": [
        "x=1\n",
        "if x>2:\n",
        "  print(\"es mayor que dos\")\n",
        "\n",
        "if x<=2:\n",
        "  print(\"es menor o igual a 2\")"
      ],
      "metadata": {
        "colab": {
          "base_uri": "https://localhost:8080/"
        },
        "id": "eerf4YaLaD6b",
        "outputId": "6272787d-045b-4d2f-938d-316453f53bda"
      },
      "execution_count": null,
      "outputs": [
        {
          "output_type": "stream",
          "name": "stdout",
          "text": [
            "es menor o igual a 2\n"
          ]
        }
      ]
    },
    {
      "cell_type": "code",
      "source": [
        "# una forma mas sencilla es usar if else"
      ],
      "metadata": {
        "id": "9h8iRE9IaD8p"
      },
      "execution_count": null,
      "outputs": []
    },
    {
      "cell_type": "code",
      "source": [
        "x=1\n",
        "if x>2:\n",
        "  print(\"es mayor que dos\")\n",
        "else:\n",
        "  print(\"es menor o igual a 2\")"
      ],
      "metadata": {
        "colab": {
          "base_uri": "https://localhost:8080/"
        },
        "id": "pi_ob-yraD_F",
        "outputId": "8fea1174-ab04-4869-8e22-19fb5bd92437"
      },
      "execution_count": null,
      "outputs": [
        {
          "output_type": "stream",
          "name": "stdout",
          "text": [
            "es menor o igual a 2\n"
          ]
        }
      ]
    },
    {
      "cell_type": "code",
      "source": [
        "## CONDICIONAL ESE IF .. else es \"si no\""
      ],
      "metadata": {
        "id": "jGYdvIkRaEBc"
      },
      "execution_count": null,
      "outputs": []
    },
    {
      "cell_type": "code",
      "source": [
        "# creamos una funcion para que nos diga si el numero el positivo, negativo o cero\n",
        "def funcion (x):\n",
        "  if x>0:\n",
        "    print(\"positivo\")\n",
        "  elif x<0:\n",
        "    print(\"negativo\")\n",
        "  else:\n",
        "    print(\"cero\")"
      ],
      "metadata": {
        "id": "wNyeNUhcaEDf"
      },
      "execution_count": null,
      "outputs": []
    },
    {
      "cell_type": "code",
      "source": [
        "funcion(10)\n"
      ],
      "metadata": {
        "colab": {
          "base_uri": "https://localhost:8080/"
        },
        "id": "HBgT13Tch6FD",
        "outputId": "a0c258da-5780-480f-ec95-6dfe156b85e1"
      },
      "execution_count": null,
      "outputs": [
        {
          "output_type": "stream",
          "name": "stdout",
          "text": [
            "positivo\n"
          ]
        }
      ]
    },
    {
      "cell_type": "code",
      "source": [
        "funcion(-1)"
      ],
      "metadata": {
        "colab": {
          "base_uri": "https://localhost:8080/"
        },
        "id": "9aRl6RjFh6HS",
        "outputId": "9dca38d7-ee30-4a75-ca6c-f3adf959f275"
      },
      "execution_count": null,
      "outputs": [
        {
          "output_type": "stream",
          "name": "stdout",
          "text": [
            "negativo\n"
          ]
        }
      ]
    },
    {
      "cell_type": "code",
      "source": [
        "funcion(0)"
      ],
      "metadata": {
        "colab": {
          "base_uri": "https://localhost:8080/"
        },
        "id": "Quak0QtMh6Jk",
        "outputId": "c53dc98b-77d2-47b6-9dee-80453e40c810"
      },
      "execution_count": null,
      "outputs": [
        {
          "output_type": "stream",
          "name": "stdout",
          "text": [
            "cero\n"
          ]
        }
      ]
    },
    {
      "cell_type": "markdown",
      "source": [
        "%%%% DEFINICION DE FUNCIONES %%%"
      ],
      "metadata": {
        "id": "WY_AL54A1uuX"
      }
    },
    {
      "cell_type": "code",
      "source": [
        "# def nombre de la funcion(parametros)\n",
        "  #formula\n",
        "  #return variable_respuesta"
      ],
      "metadata": {
        "id": "Sy0Ubz9Xh6Ny"
      },
      "execution_count": null,
      "outputs": []
    },
    {
      "cell_type": "code",
      "source": [
        "# Ejemplo: Hremos una funcion que le agregue un 1 al numero que pongamos\n",
        "def suma_unitaria(x):\n",
        "  y = x + 1\n",
        "  return y\n",
        "\n",
        "\n"
      ],
      "metadata": {
        "id": "uVJDmd_lh6SM"
      },
      "execution_count": null,
      "outputs": []
    },
    {
      "cell_type": "code",
      "source": [
        "suma_unitaria(7)"
      ],
      "metadata": {
        "colab": {
          "base_uri": "https://localhost:8080/"
        },
        "id": "zNkMAEn0h6Ub",
        "outputId": "fcc37771-7bf0-4e5f-fa99-ffde98f660ae"
      },
      "execution_count": null,
      "outputs": [
        {
          "output_type": "execute_result",
          "data": {
            "text/plain": [
              "8"
            ]
          },
          "metadata": {},
          "execution_count": 71
        }
      ]
    },
    {
      "cell_type": "code",
      "source": [
        "# Ejemplo: elvara al cubo a cualquier nuemro que le demos\n"
      ],
      "metadata": {
        "id": "QnrG67ybh6Wu"
      },
      "execution_count": null,
      "outputs": []
    },
    {
      "cell_type": "code",
      "source": [
        "def cubo(a):\n",
        "  y= a**3\n",
        "  return y"
      ],
      "metadata": {
        "id": "WSEXRjxOh6Y4"
      },
      "execution_count": null,
      "outputs": []
    },
    {
      "cell_type": "code",
      "source": [
        "cubo(2)"
      ],
      "metadata": {
        "colab": {
          "base_uri": "https://localhost:8080/"
        },
        "id": "J2lRQ8INaEF9",
        "outputId": "2bc8323e-b0ee-4152-f999-c6a2637bea1e"
      },
      "execution_count": null,
      "outputs": [
        {
          "output_type": "execute_result",
          "data": {
            "text/plain": [
              "8"
            ]
          },
          "metadata": {},
          "execution_count": 75
        }
      ]
    },
    {
      "cell_type": "code",
      "source": [
        "# FUNCIONES CONDICIONALES"
      ],
      "metadata": {
        "id": "9vF4-CjuaEIU"
      },
      "execution_count": null,
      "outputs": []
    },
    {
      "cell_type": "code",
      "source": [
        "# Ejemplo:\n",
        "def saldo_masuno(saldo):\n",
        "  if saldo > 0:\n",
        "    saldo = saldo + 1\n",
        "    return saldo\n",
        "  else:\n",
        "    return \"Saldo cero\""
      ],
      "metadata": {
        "id": "LhaNr0mqQCaE"
      },
      "execution_count": null,
      "outputs": []
    },
    {
      "cell_type": "code",
      "source": [
        "saldo_masuno(57)"
      ],
      "metadata": {
        "colab": {
          "base_uri": "https://localhost:8080/"
        },
        "id": "PHRxu4H-QCcX",
        "outputId": "c0fd6921-cfa6-4624-e16c-434d7aa544e2"
      },
      "execution_count": null,
      "outputs": [
        {
          "output_type": "execute_result",
          "data": {
            "text/plain": [
              "58"
            ]
          },
          "metadata": {},
          "execution_count": 5
        }
      ]
    },
    {
      "cell_type": "code",
      "source": [
        "saldo_masuno(0)"
      ],
      "metadata": {
        "colab": {
          "base_uri": "https://localhost:8080/",
          "height": 35
        },
        "id": "esUfaT7iQCet",
        "outputId": "7a29d3a5-77e1-4c24-adc0-e01634915d60"
      },
      "execution_count": null,
      "outputs": [
        {
          "output_type": "execute_result",
          "data": {
            "text/plain": [
              "'Saldo cero'"
            ],
            "application/vnd.google.colaboratory.intrinsic+json": {
              "type": "string"
            }
          },
          "metadata": {},
          "execution_count": 7
        }
      ]
    },
    {
      "cell_type": "code",
      "source": [
        "# Ejercicio: Asigne una calificación en funcion\n",
        "\"\"\" a. Define una función llamada \"calificar\" que tome un argumento llamado \"puntuacion\".\n",
        "\n",
        "b.Dentro de la función \"calificar\", utiliza una estructura condicional para asignar una calificación\n",
        "en función de la puntuación proporcionada. Puedes utilizar la siguiente escala de calificaciones:\n",
        "\n",
        "   *Si la puntuación es igual o mayor que 90, asigna la calificación \"A\".\n",
        "\n",
        "   *Si la puntuación es igual o mayor que 80 pero menor que 90, asigna la calificación \"B\".\n",
        "\n",
        "   *Si la puntuación es igual o mayor que 70 pero menor que 80, asigna la calificación \"C\".\n",
        "\n",
        "   *Si la puntuación es igual o mayor que 60 pero menor que 70, asigna la calificación \"D\".\n",
        "\n",
        "En cualquier otro caso, asigna la calificación \"F\".\"\"\""
      ],
      "metadata": {
        "id": "8aMyIGDNQChZ"
      },
      "execution_count": null,
      "outputs": []
    },
    {
      "cell_type": "code",
      "source": [
        "def calificar(puntuacion):\n",
        "    if puntuacion >= 90:\n",
        "        return \"A\"\n",
        "    elif puntuacion >= 80:\n",
        "        return \"B\"\n",
        "    elif puntuacion >= 70:\n",
        "        return \"C\"\n",
        "    elif puntuacion >= 60:\n",
        "        return \"D\"\n",
        "    else:\n",
        "        return \"F\""
      ],
      "metadata": {
        "id": "m1mZo2YaQCjL"
      },
      "execution_count": null,
      "outputs": []
    },
    {
      "cell_type": "code",
      "source": [
        "print(calificar(95))\n",
        "print(calificar(85))\n",
        "print(calificar(75))\n",
        "print(calificar(65))\n",
        "print(calificar(55))"
      ],
      "metadata": {
        "colab": {
          "base_uri": "https://localhost:8080/"
        },
        "id": "2mfYhBSlQClv",
        "outputId": "4d3ffb64-069c-419a-ccf6-6535cc1e8f5a"
      },
      "execution_count": null,
      "outputs": [
        {
          "output_type": "stream",
          "name": "stdout",
          "text": [
            "A\n",
            "B\n",
            "C\n",
            "D\n",
            "F\n"
          ]
        }
      ]
    },
    {
      "cell_type": "code",
      "source": [
        "# FUNCION CON VARIOS PARAMETROS"
      ],
      "metadata": {
        "id": "scFC8EDgQCn-"
      },
      "execution_count": null,
      "outputs": []
    },
    {
      "cell_type": "code",
      "source": [
        "\"\"\"En este ejercicio, aprenderás a calcular el interés compuesto para una inversión.\n",
        "1. El objetivo es que escribas una función llamada calcular_interes_compuesto que calcule el valor futuro de una inversión.\n",
        "\n",
        "   a. Define una función llamada calcular_interes_compuesto que tome tres parámetros:\n",
        "       principal (el monto principal de la inversión), tasa_de_interes (la tasa de interés anual en decimal)\n",
        "       y tiempo (el número de años que la inversión estará en crecimiento).\n",
        "\n",
        "   b. Dentro de la función, calcula el valor futuro de la inversión utilizando la fórmula del interés compuesto:\n",
        "\n",
        "      pista: valor_futuro = principal * (1 + tasa_de_interes)**tiempo\n",
        "\n",
        "   c. Utiliza la función round para redondear el valor_futuro a dos decimales.\n",
        "       Esto es importante para obtener un valor monetario más realista.\n",
        "\n",
        "   d. Imprime el valor_futuro redondeado en la consola. Puedes usar la función print para esto.\n",
        "\n",
        "Recuerda que los parámetros principal, tasa_de_interes, y tiempo serán proporcionados cuando llames a la función calcular_interes_compuesto.\"\"\""
      ],
      "metadata": {
        "id": "doF7ajbJetuA"
      },
      "execution_count": null,
      "outputs": []
    },
    {
      "cell_type": "code",
      "source": [
        "def calcular_interes_compuesto(principal, tasa_de_interes, tiempo):\n",
        "    valor_futuro = principal * (1 + tasa_de_interes) ** tiempo\n",
        "    return valor_futuro"
      ],
      "metadata": {
        "id": "_KNpQmoGQCs5"
      },
      "execution_count": null,
      "outputs": []
    },
    {
      "cell_type": "code",
      "source": [
        "calcular_interes_compuesto(1000, 0.05, 1)"
      ],
      "metadata": {
        "colab": {
          "base_uri": "https://localhost:8080/"
        },
        "id": "I1d1-hgMamxv",
        "outputId": "47d00a9a-6dae-4839-e6f5-1dd3b855234c"
      },
      "execution_count": null,
      "outputs": [
        {
          "output_type": "execute_result",
          "data": {
            "text/plain": [
              "1050.0"
            ]
          },
          "metadata": {},
          "execution_count": 41
        }
      ]
    },
    {
      "cell_type": "code",
      "source": [
        "# Para un resultado mas detallado\n",
        "print(\"El valor futuro de la inversión es:\", round(calcular_interes_compuesto(1000, 0.05, 1), 2))"
      ],
      "metadata": {
        "id": "PCoGJWW3aERm",
        "colab": {
          "base_uri": "https://localhost:8080/"
        },
        "outputId": "b40df76c-fd65-4011-f805-4b0f423ff722"
      },
      "execution_count": null,
      "outputs": [
        {
          "output_type": "stream",
          "name": "stdout",
          "text": [
            "El valor futuro de la inversión es: 1050.0\n"
          ]
        }
      ]
    },
    {
      "cell_type": "code",
      "source": [
        "## OTRAS FUNCIONES INCLUIDAS EN PYTHON"
      ],
      "metadata": {
        "id": "pXSA34qodbdD"
      },
      "execution_count": null,
      "outputs": []
    },
    {
      "cell_type": "code",
      "source": [
        "# max(), min(), abs(), sum(), pow(), len()"
      ],
      "metadata": {
        "id": "iXvTO_GxdbgK"
      },
      "execution_count": null,
      "outputs": []
    },
    {
      "cell_type": "code",
      "source": [
        "z=(1,2,3,4,5,6,7,8,9,10)\n",
        "y=-9"
      ],
      "metadata": {
        "id": "QJZaCvYRdbj5"
      },
      "execution_count": null,
      "outputs": []
    },
    {
      "cell_type": "code",
      "source": [
        "max(z) # nos da el maximo de una lista\n"
      ],
      "metadata": {
        "colab": {
          "base_uri": "https://localhost:8080/"
        },
        "id": "DsptKsxJdbm1",
        "outputId": "db39b7bd-d230-41e2-aafb-6f931a04fc87"
      },
      "execution_count": null,
      "outputs": [
        {
          "output_type": "execute_result",
          "data": {
            "text/plain": [
              "10"
            ]
          },
          "metadata": {},
          "execution_count": 47
        }
      ]
    },
    {
      "cell_type": "code",
      "source": [
        "min(z)# nos da el minimo de una lista"
      ],
      "metadata": {
        "colab": {
          "base_uri": "https://localhost:8080/"
        },
        "id": "F6_fFJ2_dbpZ",
        "outputId": "08e36be5-c1bd-41bc-f6e5-e71bb56011bd"
      },
      "execution_count": null,
      "outputs": [
        {
          "output_type": "execute_result",
          "data": {
            "text/plain": [
              "1"
            ]
          },
          "metadata": {},
          "execution_count": 48
        }
      ]
    },
    {
      "cell_type": "code",
      "source": [
        "abs(y) # nos da el valor absoluto de una lista"
      ],
      "metadata": {
        "colab": {
          "base_uri": "https://localhost:8080/"
        },
        "id": "2vvakuYNdbr2",
        "outputId": "0f3ef068-5bc9-4f05-8245-7f0ba9750da6"
      },
      "execution_count": null,
      "outputs": [
        {
          "output_type": "execute_result",
          "data": {
            "text/plain": [
              "9"
            ]
          },
          "metadata": {},
          "execution_count": 50
        }
      ]
    },
    {
      "cell_type": "code",
      "source": [
        "pow(3,3) # funcion para sacar potencias"
      ],
      "metadata": {
        "colab": {
          "base_uri": "https://localhost:8080/"
        },
        "id": "jdgYKti_dbuf",
        "outputId": "2550efd6-2d03-45bf-826f-5216b7f3d524"
      },
      "execution_count": null,
      "outputs": [
        {
          "output_type": "execute_result",
          "data": {
            "text/plain": [
              "27"
            ]
          },
          "metadata": {},
          "execution_count": 51
        }
      ]
    },
    {
      "cell_type": "code",
      "source": [
        "len(\"helton\") # indica el numero de elementos"
      ],
      "metadata": {
        "id": "cENjBL6waET7",
        "colab": {
          "base_uri": "https://localhost:8080/"
        },
        "outputId": "5f23ff52-b1e0-4399-b60b-c583b71c70b8"
      },
      "execution_count": null,
      "outputs": [
        {
          "output_type": "execute_result",
          "data": {
            "text/plain": [
              "6"
            ]
          },
          "metadata": {},
          "execution_count": 52
        }
      ]
    },
    {
      "cell_type": "code",
      "source": [
        "# Ejercicio: Valor esperado del cliente en funcion a su valor de riesgo"
      ],
      "metadata": {
        "id": "4UCJ-hvxaEWD"
      },
      "execution_count": null,
      "outputs": []
    },
    {
      "cell_type": "code",
      "source": [
        "\"\"\"Paso 1: Definir una Función de Obtención de Tasa de Interés\n",
        "\n",
        "Primero, vamos a definir una función llamada obtener_tasa_interes(perfil_riesgo) que tomará el perfil de riesgo como argumento\n",
        "y devolverá la tasa de interés correspondiente. El perfil de riesgo puede ser \"conservador\", \"moderado\" o \"agresivo\".\n",
        "A cada perfil de riesgo se le asignará una tasa de interés diferente:\n",
        "\n",
        "Conservador: 3%\n",
        "\n",
        "Moderado: 5%\n",
        "\n",
        "Agresivo: 8%\n",
        "\n",
        "Utiliza una declaración if y elif en esta función para determinar la tasa de interés en función del perfil de riesgo.\"\"\""
      ],
      "metadata": {
        "id": "BuLYaUPQsCJa"
      },
      "execution_count": null,
      "outputs": []
    },
    {
      "cell_type": "code",
      "source": [
        "def obtener_tasa_interes(perfil_riesgo):\n",
        "    if perfil_riesgo == \"conservador\":\n",
        "        return 3\n",
        "    elif perfil_riesgo == \"moderado\":\n",
        "        return 5\n",
        "    elif perfil_riesgo == \"agresivo\":\n",
        "        return 8\n",
        "    else:\n",
        "        return \"ERROR\""
      ],
      "metadata": {
        "id": "9dX3SJ4BaEYU"
      },
      "execution_count": null,
      "outputs": []
    },
    {
      "cell_type": "code",
      "source": [
        "\"\"\"Paso 2: Definir la Función Principal de Cálculo\n",
        "\n",
        "Ahora, vamos a definir la función principal llamada calcular_interés_compuesto(principal, perfil_riesgo, num_anios) que tomará tres argumentos:\n",
        "\n",
        "principal: la cantidad inicial de la inversión.\n",
        "\n",
        "perfil_riesgo: el perfil de riesgo del inversor (conservador, moderado o agresivo).\n",
        "\n",
        "num_anios: el número de años durante los cuales se invertirá el dinero.\n",
        "\n",
        "Dentro de esta función, utiliza la función anidada obtener_tasa_interes para obtener la tasa de interés correspondiente al perfil de riesgo.\n",
        "\n",
        "Luego, calcula el valor futuro de la inversión con interés compuesto utilizando la fórmula:\n",
        "\n",
        "valor_futuro = principal * (1 + tasa_interes / 100) ** num_anios\n",
        "Recuerda redondear el valor_futuro a dos decimales utilizando la función round().\"\"\""
      ],
      "metadata": {
        "id": "nbNr99ejsM1_"
      },
      "execution_count": null,
      "outputs": []
    },
    {
      "cell_type": "code",
      "source": [
        "def calcular_interes_compuesto(principal, perfil_riesgo, num_anios):\n",
        "  tasa_interes = obtener_tasa_interes(perfil_riesgo)\n",
        "  valor_futuro = principal * (1 + tasa_interes / 100) ** num_anios\n",
        "  return valor_futuro"
      ],
      "metadata": {
        "id": "CtSweQp7lsMt"
      },
      "execution_count": null,
      "outputs": []
    },
    {
      "cell_type": "code",
      "source": [
        "\"\"\"Paso 3: Probar la Función\n",
        "\n",
        "Después de definir ambas funciones, utiliza valores de ejemplo para principal, perfil_riesgo y num_anios.\n",
        " Llama a la función calcular_interés_compuesto() con estos valores y almacena el resultado en una variable llamada valor_futuro_ejemplo.\"\"\""
      ],
      "metadata": {
        "id": "8EH4cyb6sVMo"
      },
      "execution_count": null,
      "outputs": []
    },
    {
      "cell_type": "code",
      "source": [
        "valor_futuro_ejemplo = calcular_interes_compuesto(1000, \"agresivo\", 1)"
      ],
      "metadata": {
        "id": "bl50cgXClsPE"
      },
      "execution_count": null,
      "outputs": []
    },
    {
      "cell_type": "code",
      "source": [
        "\"Paso 4: Mostrar el Resultado\""
      ],
      "metadata": {
        "id": "wU_jbNCbsdYg"
      },
      "execution_count": null,
      "outputs": []
    },
    {
      "cell_type": "code",
      "source": [
        "print(f\"El valor futuro de la inversión es: {valor_futuro_ejemplo}\")"
      ],
      "metadata": {
        "colab": {
          "base_uri": "https://localhost:8080/"
        },
        "id": "3RxmCksilsRb",
        "outputId": "e1feaacb-147e-467d-8bcb-edaddb962e89"
      },
      "execution_count": null,
      "outputs": [
        {
          "output_type": "stream",
          "name": "stdout",
          "text": [
            "El valor futuro de la inversión es: 1080.0\n"
          ]
        }
      ]
    },
    {
      "cell_type": "code",
      "source": [
        "# LISTAS ------>Las listas se crean utilizando corchetes [], y los elementos se separan por comas.\n",
        "#        ------>Las listas son mutables (se pueden cambiar una vez hallan sido creadas)"
      ],
      "metadata": {
        "id": "n1nyGFBTlsT0"
      },
      "execution_count": null,
      "outputs": []
    },
    {
      "cell_type": "code",
      "source": [
        "# Creemos una lista de alumnos\n",
        "Alumnos = [\"Hugo\", \"Paco\", \"Luis\"]"
      ],
      "metadata": {
        "id": "47AvRzyFlrHp"
      },
      "execution_count": null,
      "outputs": []
    }
  ]
}